{
  "nbformat": 4,
  "nbformat_minor": 0,
  "metadata": {
    "colab": {
      "provenance": []
    },
    "kernelspec": {
      "name": "python3",
      "display_name": "Python 3"
    },
    "language_info": {
      "name": "python"
    }
  },
  "cells": [
    {
      "cell_type": "markdown",
      "source": [
        "# OOPS Assignment"
      ],
      "metadata": {
        "id": "lbGOQ6uu7Rs2"
      }
    },
    {
      "cell_type": "markdown",
      "source": [
        "1. What is Object-Oriented Programming (OOP)?\n",
        "  - Object Oriented Programming is a programming model that organizes software design around data (objects) and their associated functions (methods), rather than logic and functions\n",
        "\n",
        "2. What is a class in OOP ?\n",
        "  - In Object-Oriented Programming (OOP), a class serves as a blueprint or template for creating objects. It defines the structure and behavior that objects of that class will possess.\n",
        "\n",
        "3. What is an object in OOP ?\n",
        "  - In Object-Oriented Programming (OOP), an object is a fundamental building block representing a real-world entity or a concept within a software system. It is an instance of a class, which serves as a blueprint or template defining the object's structure and behavior.\n",
        "\n",
        "4. What is the difference between abstraction and encapsulation ?\n",
        "  - ABSTRACTION : Abstraction is the process of hiding the complex implementation details of a system or object and exposing only the essential features or functionalities that are relevant to the user.\n",
        "\n",
        "  - ENCAPSULATION : Encapsulation is the bundling of data (attributes) and the methods (functions) that operate on that data into a single unit, typically a class. It also involves restricting direct access to the internal state of an object and providing controlled access through public methods.\n",
        "  \n",
        "5. What are dunder methods in Python ?\n",
        "  - Dunder methods, also known as magic methods or special methods, are a core part of Python's object model. They are distinguished by their names, which begin and end with double underscores (e.g., __init__, __str__, __add__).\n",
        "\n",
        "6. Explain the concept of inheritance in OOP ?\n",
        "  - Inheritance in Object-Oriented Programming (OOP) is a fundamental concept that allows a new class (called the subclass or child class) to inherit properties (attributes) and behaviors (methods) from an existing class (called the superclass or parent class). This creates a hierarchical relationship between classes, often referred to as an \"IS-A\" relationship (e.g., a \"Dog IS-A Animal\").\n",
        "\n",
        "7. What is polymorphism in OOP ?\n",
        "  - Polymorphism in object-oriented programming (OOP) is the ability of an object, method, or interface to take on multiple forms or behave in different ways depending on the context or the specific object type it's interacting with.\n",
        "\n",
        "8. How is encapsulation achieved in Python ?\n",
        "  - Encapsulation in Python is achieved through conventions and name mangling, rather than strict access modifiers like public, private, or protected found in other languages. The core idea is to bundle data (attributes) and the methods that operate on that data within a single unit (a class), and control access to the internal state.\n",
        "\n",
        "9. What is a constructor in Python ?\n",
        "  - In Python, a constructor is a special method within a class that is automatically invoked when a new object (instance) of that class is created. Its primary purpose is to initialize the object's attributes and set up its initial state.\n",
        "\n",
        "\n",
        "10. What are class and static methods in Python ?\n",
        "  - Class Method:\n",
        "  1. A class method is bound to the class and receives the class itself as its first argument, conventionally named cls.\n",
        "  2. It is defined using the @classmethod decorator.\n",
        "  3. Class methods can access and modify class-level attributes.\n",
        "\n",
        "\n",
        "11. What is method overloading in Python ?\n",
        "  - Method overloading, in the context of object-oriented programming, refers to the ability to define multiple methods within the same class that share the same name but differ in their parameters (either in number or type). This allows a single method name to perform different actions based on the arguments provided during the call.\n",
        "\n",
        "\n",
        "12. What is method overriding in OOP ?\n",
        "  - Method overriding in OOP is a mechanism where a subclass provides a specific implementation for a method that is already defined in its superclass. This process, also known as runtime polymorphism.\n",
        "\n",
        "13. What is a property decorator in Python ?\n",
        " - The @property decorator in Python is a built-in decorator that allows you to define methods within a class that can be accessed like attributes, rather than requiring explicit method calls. It provides a \"Pythonic\" way to implement getters, setters, and deleters for class attributes, enabling controlled access and encapsulation.\n",
        "\n",
        "14. Why is polymorphism important in OOP ?\n",
        "  - Polymorphism is important in OOP for code reusability, flexibility, and maintainability, allowing different objects to be treated uniformly through a shared interface while providing specialized implementations.\n",
        "\n",
        "15. What is an abstract class in Python ?\n",
        "  - An abstract class in Python is a class that cannot be instantiated directly and serves as a blueprint for other classes. It is designed to define a common interface or a set of rules that its subclasses must follow.\n",
        "\n",
        "16. What are the advantages of OOP?\n",
        " - The main advantages of Object-Oriented Programming (OOP) are modularity, code reusability through inheritance, flexibility and extensibility via polymorphism, enhanced security and data integrity from encapsulation and abstraction .\n",
        "\n",
        "17. What is the difference between a class variable and an instance variable ?\n",
        " - Class Variable:\n",
        " 1. A class variable is declared within the class but outside of any methods.\n",
        "2. It is shared by all instances (objects) of that class. This means there is only one copy of the class variable in memory, regardless of how many objects are created.\n",
        "3. Changes to a class variable will affect all instances of the class.\n",
        "\n",
        " - Instance Variable:\n",
        " 1. An instance variable is declared within a method (usually __init__ in Python) and associated with a specific instance of the class.\n",
        "2. Each instance of the class has its own unique copy of the instance variables.\n",
        "3. Changes to an instance variable only affect that particular instance,   not other instances of the same class.\n",
        "\n",
        "18. What is multiple inheritance in Python?\n",
        " - Multiple inheritance in Python is a feature that allows a class to inherit attributes and methods from more than one parent class. This means a single child class can combine functionalities and characteristics from multiple distinct base classes.\n",
        "\n",
        "19. Explain the purpose of ‘’__str__’ and ‘__repr__’ ‘ methods in Python ?\n",
        "  - __str__ (for users):\n",
        "1. This method is intended to return a \"user-friendly\" or \"readable\" string representation of an object.\n",
        "2. It is invoked implicitly by functions like print() and str().\n",
        "  \n",
        "  - __repr__ (for developers):\n",
        "1. This method is intended to return an \"unambiguous\" or \"developer-friendly\" string representation of an object.\n",
        "2. It is invoked implicitly by the repr() function and when an object is displayed in the interactive Python interpreter (REPL) without explicitly calling print().\n",
        "\n",
        "20. What is the significance of the ‘super()’ function in Python ?\n",
        "  - The super() function in Python holds significant importance in object-oriented programming, particularly when dealing with inheritance. Its primary purpose is to provide a way to access methods and properties of a parent or sibling class from within a child or subclass.\n",
        "\n",
        "\n",
        "21. What is the significance of the __del__ method in Python ?\n",
        "  - The __del__ method in Python, often referred to as a destructor, holds significance primarily for resource management and cleanup operations when an object is about to be destroyed.\n",
        "\n",
        "22.  What is the difference between @staticmethod and @classmethod in Python ?\n",
        "  - @classmethod:\n",
        " - Takes cls as the first argument:\n",
        "A class method receives the class itself as its first parameter, conventionally named cls. This allows the method to access and modify class-level attributes and call other class methods.\n",
        "\n",
        " - @staticmethod:\n",
        " - Does not take self or cls as an argument:\n",
        "A static method does not receive any special first argument like self (for instance methods) or cls (for class methods).\n",
        "\n",
        "23. How does polymorphism work in Python with inheritance ?\n",
        " - Polymorphism in Python, when combined with inheritance, primarily manifests through method overriding. This allows subclasses to provide their own specific implementations of methods that are already defined in their superclass.\n",
        "\n",
        "\n",
        "24. What is method chaining in Python OOP ?\n",
        "  - Method chaining in Python Object-Oriented Programming (OOP) is a technique that allows for the sequential invocation of multiple methods on the same object in a single line of code. This is achieved by having each method in the chain return the object itself (typically self) after performing its operation.\n",
        "\n",
        "\n",
        "25. What is the purpose of the __call__ method in Python?\n",
        " - The purpose of the __call__ method in Python is to make instances of a class callable, meaning they can be invoked like functions.\n",
        ""
      ],
      "metadata": {
        "id": "LAmTK6aG7YfX"
      }
    },
    {
      "cell_type": "markdown",
      "source": [
        "# PRACTICAL QUESTIONS"
      ],
      "metadata": {
        "id": "F825S_GIFH5K"
      }
    },
    {
      "cell_type": "code",
      "source": [
        "# 1. Create a parent class Animal with a method speak() that prints a generic message. Create a child class Dog that overrides the speak() method to print \"Bark!\".\n",
        "class Animal:\n",
        "    def speak(self):\n",
        "        print(\"The animal makes a sound.\")\n",
        "\n",
        "class Dog(Animal):\n",
        "    def speak(self):\n",
        "        print(\"Bark!\")\n",
        "\n",
        "animal_instance = Animal()\n",
        "animal_instance.speak()\n",
        "\n",
        "dog_instance = Dog()\n",
        "dog_instance.speak()"
      ],
      "metadata": {
        "colab": {
          "base_uri": "https://localhost:8080/"
        },
        "id": "-a88_AcaGJFw",
        "outputId": "55e2bd9d-b066-4660-a307-eeb23ef3099e"
      },
      "execution_count": 2,
      "outputs": [
        {
          "output_type": "stream",
          "name": "stdout",
          "text": [
            "The animal makes a sound.\n",
            "Bark!\n"
          ]
        }
      ]
    },
    {
      "cell_type": "code",
      "source": [
        "# 2. Write a program to create an abstract class Shape with a method area(). Derive classes Circle and Rectangle from it and implement the area() method in both.\n",
        "from abc import ABC, abstractmethod\n",
        "import math\n",
        "\n",
        "class Shape(ABC):\n",
        "    @abstractmethod\n",
        "    def area(self):\n",
        "        pass\n",
        "\n",
        "class Circle(Shape):\n",
        "    def __init__(self, radius):\n",
        "        if radius < 0:\n",
        "            raise ValueError(\"Radius cannot be negative.\")\n",
        "        self.radius = radius\n",
        "\n",
        "    def area(self):\n",
        "        return math.pi * (self.radius ** 2)\n",
        "\n",
        "class Rectangle(Shape):\n",
        "\n",
        "    def __init__(self, length, width):\n",
        "\n",
        "        if length < 0 or width < 0:\n",
        "            raise ValueError(\"Length and width cannot be negative.\")\n",
        "        self.length = length\n",
        "        self.width = width\n",
        "\n",
        "    def area(self):\n",
        "        return self.length * self.width\n",
        "\n",
        "if __name__ == \"__main__\":\n",
        "    circle = Circle(5)\n",
        "    rectangle = Rectangle(4, 6)\n",
        "\n",
        "    print(f\"Area of Circle: {circle.area():.2f}\")\n",
        "    print(f\"Area of Rectangle: {rectangle.area()}\")\n",
        "\n",
        ""
      ],
      "metadata": {
        "colab": {
          "base_uri": "https://localhost:8080/"
        },
        "id": "YRQN3eg67W0X",
        "outputId": "39f81d2c-ee6b-4802-da1a-0adf1912c82e"
      },
      "execution_count": 3,
      "outputs": [
        {
          "output_type": "stream",
          "name": "stdout",
          "text": [
            "Area of Circle: 78.54\n",
            "Area of Rectangle: 24\n"
          ]
        }
      ]
    },
    {
      "cell_type": "code",
      "execution_count": null,
      "metadata": {
        "id": "lXi0ZSm67NJJ"
      },
      "outputs": [],
      "source": [
        " # 3. Implement a multi-level inheritance scenario where a class Vehicle has an attribute type. Derive a class Car and further derive a class ElectricCar that adds a battery attribute.\n",
        " class Vehicle:\n",
        "    def __init__(self, vehicle_type):\n",
        "        self.type = vehicle_type\n",
        "\n",
        "    def display_vehicle_info(self):\n",
        "        print(f\"Vehicle Type: {self.type}\")\n",
        "\n",
        "class Car(Vehicle):\n",
        "    def __init__(self, vehicle_type, make, model):\n",
        "        super().__init__(vehicle_type)\n",
        "        self.make = make\n",
        "        self.model = model\n",
        "\n",
        "    def display_car_info(self):\n",
        "        self.display_vehicle_info()\n",
        "        print(f\"Make: {self.make}, Model: {self.model}\")\n",
        "\n",
        "class ElectricCar(Car):\n",
        "    def __init__(self, vehicle_type, make, model, battery_capacity):\n",
        "        super().__init__(vehicle_type, make, model)\n",
        "        self.battery_capacity = battery_capacity\n",
        "\n",
        "    def display_electric_car_info(self):\n",
        "        self.display_car_info()\n",
        "        print(f\"Battery Capacity: {self.battery_capacity} kWh\")\n",
        "\n",
        "my_electric_car = ElectricCar(\"Electric Vehicle\", \"Tesla\", \"Model 3\", 75)\n",
        "my_electric_car.display_electric_car_info()"
      ]
    },
    {
      "cell_type": "code",
      "source": [
        "# 4. Demonstrate polymorphism by creating a base class Bird with a method fly(). Create two derived classes Sparrow and Penguin that override the fly() method.\n",
        "class Bird:\n",
        "    def fly(self):\n",
        "        print(\"A generic bird flies.\")\n",
        "\n",
        "class Sparrow(Bird):\n",
        "    def fly(self):\n",
        "        print(\"The sparrow soars gracefully through the air.\")\n",
        "\n",
        "class Penguin(Bird):\n",
        "    def fly(self):\n",
        "        print(\"The penguin waddles on land, it cannot fly.\")\n",
        "\n",
        "\n",
        "birds = [Bird(), Sparrow(), Penguin()]\n",
        "\n",
        "for bird in birds:\n",
        "    bird.fly()"
      ],
      "metadata": {
        "colab": {
          "base_uri": "https://localhost:8080/"
        },
        "id": "lA7gbrz1IE08",
        "outputId": "05472a7f-0713-4962-ea98-be52fb362619"
      },
      "execution_count": 2,
      "outputs": [
        {
          "output_type": "stream",
          "name": "stdout",
          "text": [
            "A generic bird flies.\n",
            "The sparrow soars gracefully through the air.\n",
            "The penguin waddles on land, it cannot fly.\n"
          ]
        }
      ]
    },
    {
      "cell_type": "code",
      "source": [
        "# 5.  Write a program to demonstrate encapsulation by creating a class BankAccount with private attributes balance and methods to deposit, withdraw, and check balance.\n",
        "class BankAccount:\n",
        "    def __init__(self, initial_balance=0):\n",
        "        \"\"\"\n",
        "        Initializes a new BankAccount with an optional initial balance.\n",
        "        The balance is a private attribute to demonstrate encapsulation.\n",
        "        \"\"\"\n",
        "        if initial_balance < 0:\n",
        "            print(\"Initial balance cannot be negative. Setting to 0.\")\n",
        "            self.__balance = 0\n",
        "        else:\n",
        "            self.__balance = initial_balance\n",
        "\n",
        "    def deposit(self, amount):\n",
        "        \"\"\"\n",
        "        Deposits a specified amount into the account.\n",
        "        Only positive amounts are allowed.\n",
        "        \"\"\"\n",
        "        if amount > 0:\n",
        "            self.__balance += amount\n",
        "            print(f\"Deposited: ${amount:.2f}. New balance: ${self.__balance:.2f}\")\n",
        "        else:\n",
        "            print(\"Deposit amount must be positive.\")\n",
        "\n",
        "    def withdraw(self, amount):\n",
        "        \"\"\"\n",
        "        Withdraws a specified amount from the account.\n",
        "        Only positive amounts and amounts less than or equal to the current balance are allowed.\n",
        "        \"\"\"\n",
        "        if amount <= 0:\n",
        "            print(\"Withdrawal amount must be positive.\")\n",
        "        elif amount > self.__balance:\n",
        "            print(\"Insufficient funds.\")\n",
        "        else:\n",
        "            self.__balance -= amount\n",
        "            print(f\"Withdrew: ${amount:.2f}. New balance: ${self.__balance:.2f}\")\n",
        "\n",
        "    def check_balance(self):\n",
        "        \"\"\"\n",
        "        Returns the current balance of the account.\n",
        "        \"\"\"\n",
        "        return self.__balance\n",
        "\n",
        "if __name__ == \"__main__\":\n",
        "    my_account = BankAccount(100)  # Create an account with an initial balance of $100\n",
        "\n",
        "    print(f\"Current balance: ${my_account.check_balance():.2f}\")\n",
        "\n",
        "    my_account.deposit(50)  # Deposit $50\n",
        "    my_account.withdraw(20) # Withdraw $20\n",
        "    my_account.withdraw(200) # Attempt to withdraw more than available\n",
        "    my_account.deposit(-10) # Attempt to deposit a negative amount\n",
        "\n",
        "    print(f\"Final balance: ${my_account.check_balance():.2f}\")\n",
        "\n",
        ""
      ],
      "metadata": {
        "colab": {
          "base_uri": "https://localhost:8080/"
        },
        "id": "N9NmYfqrIKgH",
        "outputId": "c1f8f958-b1ea-4fe6-e2e8-103eb89574a0"
      },
      "execution_count": 3,
      "outputs": [
        {
          "output_type": "stream",
          "name": "stdout",
          "text": [
            "Current balance: $100.00\n",
            "Deposited: $50.00. New balance: $150.00\n",
            "Withdrew: $20.00. New balance: $130.00\n",
            "Insufficient funds.\n",
            "Deposit amount must be positive.\n",
            "Final balance: $130.00\n"
          ]
        }
      ]
    },
    {
      "cell_type": "code",
      "source": [
        "#6. Demonstrate runtime polymorphism using a method play() in a base class Instrument. Derive classes Guitar and Piano that implement their own version of play().\n",
        "// Base class\n",
        "class Instrument {\n",
        "    public void play() {\n",
        "        System.out.println(\"The instrument plays a sound.\");\n",
        "    }\n",
        "}\n",
        "\n",
        "// Derived class Guitar\n",
        "class Guitar extends Instrument {\n",
        "    @Override\n",
        "    public void play() {\n",
        "        System.out.println(\"The guitar strums a melody.\");\n",
        "    }\n",
        "}\n",
        "\n",
        "// Derived class Piano\n",
        "class Piano extends Instrument {\n",
        "    @Override\n",
        "    public void play() {\n",
        "        System.out.println(\"The piano plays a harmonious tune.\");\n",
        "    }\n",
        "}\n",
        "\n"
      ],
      "metadata": {
        "id": "LdLiFkiXISiw"
      },
      "execution_count": null,
      "outputs": []
    },
    {
      "cell_type": "code",
      "source": [
        "# 7. Create a class MathOperations with a class method add_numbers() to add two numbers and a static method subtract_numbers() to subtract two numbers.\n",
        "class MathOperations:\n",
        "    @classmethod\n",
        "    def add_numbers(cls, num1, num2):\n",
        "\n",
        "        return num1 + num2\n",
        "\n",
        "    @staticmethod\n",
        "    def subtract_numbers(num1, num2):\n",
        "\n",
        "        return num1 - num2\n",
        "\n",
        "\n",
        "sum_result = MathOperations.add_numbers(10, 5)\n",
        "print(f\"Sum: {sum_result}\")\n",
        "\n",
        "\n",
        "difference_result = MathOperations.subtract_numbers(10, 5)\n",
        "print(f\"Difference: {difference_result}\")"
      ],
      "metadata": {
        "colab": {
          "base_uri": "https://localhost:8080/"
        },
        "id": "k_18D1LOIdOW",
        "outputId": "08018554-9f7f-4014-9c6e-2575b073791e"
      },
      "execution_count": 6,
      "outputs": [
        {
          "output_type": "stream",
          "name": "stdout",
          "text": [
            "Sum: 15\n",
            "Difference: 5\n"
          ]
        }
      ]
    },
    {
      "cell_type": "code",
      "source": [
        "# 8. Implement a class Person with a class method to count the total number of persons created.\n",
        "class Person:\n",
        "    _person_count = 0\n",
        "\n",
        "    def __init__(self, name):\n",
        "        self.name = name\n",
        "        # Increment the class variable whenever a new instance is created\n",
        "        Person._person_count += 1\n",
        "\n",
        "    @classmethod\n",
        "    def get_total_persons(cls):\n",
        "\n",
        "        return cls._person_count\n",
        "\n",
        "person1 = Person(\"Alice\")\n",
        "person2 = Person(\"Bob\")\n",
        "person3 = Person(\"Charlie\")\n",
        "\n",
        "print(f\"Total number of persons created: {Person.get_total_persons()}\")\n",
        "\n",
        "person4 = Person(\"David\")\n",
        "print(f\"Total number of persons created: {Person.get_total_persons()}\")"
      ],
      "metadata": {
        "colab": {
          "base_uri": "https://localhost:8080/"
        },
        "id": "DzSsna_qIjQ_",
        "outputId": "edf03aa8-7b28-4577-d58c-1c42a294dba7"
      },
      "execution_count": 7,
      "outputs": [
        {
          "output_type": "stream",
          "name": "stdout",
          "text": [
            "Total number of persons created: 3\n",
            "Total number of persons created: 4\n"
          ]
        }
      ]
    },
    {
      "cell_type": "code",
      "source": [
        "# 9. Write a class Fraction with attributes numerator and denominator. Override the str method to display the fraction as \"numerator/denominator\".\n",
        "class Fraction:\n",
        "    def __init__(self, numerator, denominator):\n",
        "\n",
        "        if not isinstance(numerator, int) or not isinstance(denominator, int):\n",
        "            raise TypeError(\"Numerator and denominator must be integers.\")\n",
        "        if denominator == 0:\n",
        "            raise ValueError(\"Denominator cannot be zero.\")\n",
        "        self.numerator = numerator\n",
        "        self.denominator = denominator\n",
        "\n",
        "    def __str__(self):\n",
        "\n",
        "        return f\"{self.numerator}/{self.denominator}\"\n",
        "\n",
        "\n",
        "fraction1 = Fraction(3, 4)\n",
        "print(fraction1)  # Output: 3/4\n",
        "\n",
        "fraction2 = Fraction(7, 2)\n",
        "print(fraction2)  # Output: 7/2"
      ],
      "metadata": {
        "colab": {
          "base_uri": "https://localhost:8080/"
        },
        "id": "yZIWbKTaIpji",
        "outputId": "7e246e6f-a3f1-4aab-daf4-d92b299c722b"
      },
      "execution_count": 8,
      "outputs": [
        {
          "output_type": "stream",
          "name": "stdout",
          "text": [
            "3/4\n",
            "7/2\n"
          ]
        }
      ]
    },
    {
      "cell_type": "code",
      "source": [
        "# 10.  Demonstrate operator overloading by creating a class Vector and overriding the add method to add two vectors.\n",
        "class Vector:\n",
        "    def __init__(self, x, y):\n",
        "\n",
        "        self.x = x\n",
        "        self.y = y\n",
        "\n",
        "    def __add__(self, other):\n",
        "\n",
        "        if isinstance(other, Vector):\n",
        "            return Vector(self.x + other.x, self.y + other.y)\n",
        "        else:\n",
        "            raise TypeError(\"Unsupported operand type for +: 'Vector' and '{}'\".format(type(other).__name__))\n",
        "\n",
        "    def __repr__(self):\n",
        "\n",
        "        return f\"Vector({self.x}, {self.y})\"\n",
        "\n",
        "vector1 = Vector(1, 2)\n",
        "vector2 = Vector(3, 4)\n",
        "\n",
        "sum_vector = vector1 + vector2\n",
        "\n",
        "\n",
        "print(f\"Vector 1: {vector1}\")\n",
        "print(f\"Vector 2: {vector2}\")\n",
        "print(f\"Sum Vector: {sum_vector}\")\n",
        "\n",
        "\n",
        "try:\n",
        "    invalid_sum = vector1 + 5\n",
        "except TypeError as e:\n",
        "    print(f\"Error: {e}\")\n"
      ],
      "metadata": {
        "colab": {
          "base_uri": "https://localhost:8080/"
        },
        "id": "zl-rN6I7Ivh0",
        "outputId": "f877bd7f-b346-43b9-e16f-3aa5d8f3f9ba"
      },
      "execution_count": 10,
      "outputs": [
        {
          "output_type": "stream",
          "name": "stdout",
          "text": [
            "Vector 1: Vector(1, 2)\n",
            "Vector 2: Vector(3, 4)\n",
            "Sum Vector: Vector(4, 6)\n",
            "Error: Unsupported operand type for +: 'Vector' and 'int'\n"
          ]
        }
      ]
    },
    {
      "cell_type": "code",
      "source": [
        "# 11. Create a class Person with attributes name and age. Add a method greet() that prints \"Hello, my name is {name} and I am {age} years old.\"\n",
        "class Person:\n",
        "    def __init__(self, name, age):\n",
        "\n",
        "        self.name = name\n",
        "        self.age = age\n",
        "\n",
        "    def greet(self):\n",
        "\n",
        "        print(f\"Hello, my name is {self.name} and I am {self.age} years old.\")\n"
      ],
      "metadata": {
        "id": "EeyozYmtJb2J"
      },
      "execution_count": null,
      "outputs": []
    },
    {
      "cell_type": "code",
      "source": [
        "#12. Implement a class Student with attributes name and grades. Create a method average_grade() to compute the average of the grades.\n",
        "class Student:\n",
        "    def __init__(self, name):\n",
        "        \"\"\"\n",
        "        Initializes a Student object with a name and an empty list for grades.\n",
        "\n",
        "        Args:\n",
        "            name (str): The name of the student.\n",
        "        \"\"\"\n",
        "        self.name = name\n",
        "        self.grades = []\n",
        "\n",
        "    def add_grade(self, grade):\n",
        "        \"\"\"\n",
        "        Adds a grade to the student's list of grades.\n",
        "\n",
        "        Args:\n",
        "            grade (float or int): The grade to add.\n",
        "        \"\"\"\n",
        "        if isinstance(grade, (int, float)) and 0 <= grade <= 100:\n",
        "            self.grades.append(grade)\n",
        "        else:\n",
        "            print(\"Invalid grade. Grades must be between 0 and 100.\")\n",
        "\n",
        "    def average_grade(self):\n",
        "\n",
        "        if not self.grades:\n",
        "            return 0.0\n",
        "        return sum(self.grades) / len(self.grades)\n",
        "\n",
        "# Example usage:\n",
        "student1 = Student(\"Alice\")\n",
        "student1.add_grade(90)\n",
        "student1.add_grade(85)\n",
        "student1.add_grade(92)\n",
        "print(f\"{student1.name}'s average grade: {student1.average_grade():.2f}\")\n",
        "\n",
        "student2 = Student(\"Bob\")\n",
        "student2.add_grade(75)\n",
        "student2.add_grade(80)\n",
        "print(f\"{student2.name}'s average grade: {student2.average_grade():.2f}\")\n",
        "\n",
        "student3 = Student(\"Charlie\")\n",
        "print(f\"{student3.name}'s average grade: {student3.average_grade():.2f}\") # Output will be 0.0"
      ],
      "metadata": {
        "id": "9f4MylbvJkYW"
      },
      "execution_count": null,
      "outputs": []
    },
    {
      "cell_type": "code",
      "source": [
        "# 13. Create a class Rectangle with methods set_dimensions() to set the dimensions and area() to calculate the area.\n",
        "class Rectangle:\n",
        "    def __init__(self):\n",
        "        self.length = 0\n",
        "        self.width = 0\n",
        "\n",
        "    def set_dimensions(self, length, width):\n",
        "         (float or int): The width of the rectangle.\n",
        "\n",
        "        if length >= 0 and width >= 0:\n",
        "            self.length = length\n",
        "            self.width = width\n",
        "        else:\n",
        "            print(\"Dimensions cannot be negative.\")\n",
        "\n",
        "    def area(self):\n",
        "\n",
        "        return self.length * self.width\n",
        "\n",
        "\n",
        "my_rectangle = Rectangle()\n",
        "\n",
        "my_rectangle.set_dimensions(5, 10)\n",
        "\n",
        "\n",
        " print(f\"The area of the rectangle is: {my_rectangle.area()}\")\n",
        "\n",
        "\n",
        "my_rectangle.set_dimensions(-2, 4)"
      ],
      "metadata": {
        "id": "IiC4QeMyJqoe"
      },
      "execution_count": null,
      "outputs": []
    },
    {
      "cell_type": "code",
      "source": [
        "#14.Create a class Employee with a method calculate_salary() that computes the salary based on hours worked and hourly rate. Create a derived class Manager that adds a bonus to the salary.\n",
        "class Employee:\n",
        "    def __init__(self, name, hourly_rate):\n",
        "        self.name = name\n",
        "        self.hourly_rate = hourly_rate\n",
        "\n",
        "    def calculate_salary(self, hours_worked):\n",
        "\n",
        "        if hours_worked <= 40:\n",
        "            return hours_worked * self.hourly_rate\n",
        "        else:\n",
        "            regular_pay = 40 * self.hourly_rate\n",
        "            overtime_hours = hours_worked - 40\n",
        "            overtime_pay = overtime_hours * (self.hourly_rate * 1.5)\n",
        "            return regular_pay + overtime_pay\n",
        "\n",
        "class Manager(Employee):\n",
        "    def __init__(self, name, hourly_rate, bonus):\n",
        "        super().__init__(name, hourly_rate)\n",
        "        self.bonus = bonus\n",
        "\n",
        "    def calculate_salary(self, hours_worked):\n",
        "\n",
        "        base_salary = super().calculate_salary(hours_worked)\n",
        "        return base_salary + self.bonus\n",
        "\n",
        "# Example Usage\n",
        "if __name__ == \"__main__\":\n",
        "    employee1 = Employee(\"Alice Smith\", 20)\n",
        "    print(f\"{employee1.name}'s salary for 45 hours: ${employee1.calculate_salary(45):.2f}\")\n",
        "\n",
        "    manager1 = Manager(\"Bob Johnson\", 25, 500)\n",
        "    print(f\"{manager1.name}'s salary for 40 hours (with bonus): ${manager1.calculate_salary(40):.2f}\")"
      ],
      "metadata": {
        "colab": {
          "base_uri": "https://localhost:8080/"
        },
        "id": "TvW6x2VTJqNT",
        "outputId": "18e2c92c-0d19-4e14-ec94-cc433860f098"
      },
      "execution_count": 15,
      "outputs": [
        {
          "output_type": "stream",
          "name": "stdout",
          "text": [
            "Alice Smith's salary for 45 hours: $950.00\n",
            "Bob Johnson's salary for 40 hours (with bonus): $1500.00\n"
          ]
        }
      ]
    },
    {
      "cell_type": "code",
      "source": [
        "#15. Create a class Product with attributes name, price, and quantity. Implement a method total_price() that calculates the total price of the product.\n",
        "class Product:\n",
        "    def __init__(self, name, price, quantity):\n",
        "        \"\"\"\n",
        "        Initializes a Product object with a name, price, and quantity.\n",
        "\n",
        "        Args:\n",
        "            name (str): The name of the product.\n",
        "            price (float): The price per unit of the product.\n",
        "            quantity (int): The number of units of the product.\n",
        "        \"\"\"\n",
        "        self.name = name\n",
        "        self.price = price\n",
        "        self.quantity = quantity\n",
        "\n",
        "    def total_price(self):\n",
        "\n",
        "        return self.price * self.quantity\n",
        "\n",
        "if __name__ == \"__main__\":\n",
        "\n",
        "    laptop = Product(\"Laptop\", 999.99, 2)\n",
        "\n",
        "\n",
        "    print(f\"Product: {laptop.name}\")\n",
        "    print(f\"Price per unit: ${laptop.price:.2f}\")\n",
        "    print(f\"Quantity: {laptop.quantity}\")\n",
        "    print(f\"Total price: ${laptop.total_price():.2f}\")\n",
        "\n",
        "\n",
        "    keyboard = Product(\"Mechanical Keyboard\", 75.00, 3)\n",
        "    print(f\"\\nProduct: {keyboard.name}\")\n",
        "    print(f\"Price per unit: ${keyboard.price:.2f}\")\n",
        "    print(f\"Quantity: {keyboard.quantity}\")\n",
        "    print(f\"Total price: ${keyboard.total_price():.2f}\")"
      ],
      "metadata": {
        "colab": {
          "base_uri": "https://localhost:8080/"
        },
        "id": "w7XEd9c2J2mN",
        "outputId": "2fa6c028-fbcb-48d8-e72d-40294956ba7c"
      },
      "execution_count": 16,
      "outputs": [
        {
          "output_type": "stream",
          "name": "stdout",
          "text": [
            "Product: Laptop\n",
            "Price per unit: $999.99\n",
            "Quantity: 2\n",
            "Total price: $1999.98\n",
            "\n",
            "Product: Mechanical Keyboard\n",
            "Price per unit: $75.00\n",
            "Quantity: 3\n",
            "Total price: $225.00\n"
          ]
        }
      ]
    },
    {
      "cell_type": "code",
      "source": [
        "# 16. Create a class Animal with an abstract method sound(). Create two derived classes Cow and Sheep that implement the sound() method.\n",
        "from abc import ABC, abstractmethod\n",
        "\n",
        "class Animal(ABC):\n",
        "\n",
        "    @abstractmethod\n",
        "    def sound(self):\n",
        "\n",
        "        pass\n",
        "\n",
        "class Cow(Animal):\n",
        "\n",
        "    def sound(self):\n",
        "        return \"Moo!\"\n",
        "\n",
        "class Sheep(Animal):\n",
        "\n",
        "    def sound(self):\n",
        "        return \"Baa!\"\n",
        "\n",
        "\n",
        "if __name__ == \"__main__\":\n",
        "    cow = Cow()\n",
        "    sheep = Sheep()\n",
        "\n",
        "    print(f\"The cow says: {cow.sound()}\")\n",
        "    print(f\"The sheep says: {sheep.sound()}\")\n",
        "\n",
        ""
      ],
      "metadata": {
        "colab": {
          "base_uri": "https://localhost:8080/"
        },
        "id": "xJsIJSy8J2Yf",
        "outputId": "018a75ad-0be7-43c5-ea5e-87a39980a26d"
      },
      "execution_count": 17,
      "outputs": [
        {
          "output_type": "stream",
          "name": "stdout",
          "text": [
            "The cow says: Moo!\n",
            "The sheep says: Baa!\n"
          ]
        }
      ]
    },
    {
      "cell_type": "code",
      "source": [
        "#17.Create a class Book with attributes title, author, and year_published. Add a method get_book_info() that returns a formatted string with the book's details.\n",
        "\n",
        "class Book:\n",
        "    def __init__(self, title, author, year_published):\n",
        "\n",
        "        self.title = title\n",
        "        self.author = author\n",
        "        self.year_published = year_published\n",
        "\n",
        "    def get_book_info(self):\n",
        "\n",
        "        return f\"Title: {self.title}\\nAuthor: {self.author}\\nYear Published: {self.year_published}\"\n",
        "\n",
        "# Example usage:\n",
        "if __name__ == \"__main__\":\n",
        "    book1 = Book(\"The Hitchhiker's Guide to the Galaxy\", \"Douglas Adams\", 1979)\n",
        "    print(book1.get_book_info())\n",
        "\n",
        "    print(\"\\n---\")\n",
        "\n",
        "    book2 = Book(\"1984\", \"George Orwell\", 1949)\n",
        "    print(book2.get_book_info())"
      ],
      "metadata": {
        "colab": {
          "base_uri": "https://localhost:8080/"
        },
        "id": "iba1KweQJ2R4",
        "outputId": "4a75d463-0fa3-4b59-97e5-833cc8d79c05"
      },
      "execution_count": 18,
      "outputs": [
        {
          "output_type": "stream",
          "name": "stdout",
          "text": [
            "Title: The Hitchhiker's Guide to the Galaxy\n",
            "Author: Douglas Adams\n",
            "Year Published: 1979\n",
            "\n",
            "---\n",
            "Title: 1984\n",
            "Author: George Orwell\n",
            "Year Published: 1949\n"
          ]
        }
      ]
    },
    {
      "cell_type": "code",
      "source": [
        "\n",
        "#18. Create a class House with attributes address and price. Create a derived class Mansion that adds an attribute number_of_rooms.\n",
        "class House:\n",
        "    def __init__(self, address, price):\n",
        "        self.address = address\n",
        "        self.price = price\n",
        "\n",
        "    def get_house_info(self):\n",
        "        return f\"Address: {self.address}, Price: ${self.price:,.2f}\"\n",
        "\n",
        "class Mansion(House):\n",
        "    def __init__(self, address, price, number_of_rooms):\n",
        "        super().__init__(address, price)  # Call the parent class's constructor\n",
        "        self.number_of_rooms = number_of_rooms\n",
        "\n",
        "    def get_mansion_info(self):\n",
        "        return f\"{self.get_house_info()}, Number of Rooms: {self.number_of_rooms}\"\n",
        "\n",
        "my_house = House(\"123 Main St\", 300000)\n",
        "print(my_house.get_house_info())\n",
        "\n",
        "my_mansion = Mansion(\"456 Grand Ave\", 2500000, 15)\n",
        "print(my_mansion.get_mansion_info())"
      ],
      "metadata": {
        "colab": {
          "base_uri": "https://localhost:8080/"
        },
        "id": "DNacJtIsJ2Iz",
        "outputId": "166f295d-219a-406d-d69f-4ec07bac3c9a"
      },
      "execution_count": 1,
      "outputs": [
        {
          "output_type": "stream",
          "name": "stdout",
          "text": [
            "Address: 123 Main St, Price: $300,000.00\n",
            "Address: 456 Grand Ave, Price: $2,500,000.00, Number of Rooms: 15\n"
          ]
        }
      ]
    },
    {
      "cell_type": "code",
      "source": [],
      "metadata": {
        "id": "9KtXOljVJ2DM"
      },
      "execution_count": null,
      "outputs": []
    }
  ]
}